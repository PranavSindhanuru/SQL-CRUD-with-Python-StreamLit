{
 "cells": [
  {
   "cell_type": "code",
   "execution_count": 2,
   "id": "4d2db973",
   "metadata": {},
   "outputs": [],
   "source": [
    "import mysql.connector"
   ]
  },
  {
   "cell_type": "code",
   "execution_count": 3,
   "id": "355cdbe0",
   "metadata": {},
   "outputs": [],
   "source": [
    "db = mysql.connector.connect(\n",
    "    host = \"localhost\", \n",
    "    user = \"root\",\n",
    "    passwd = \"root\",\n",
    "    database = \"test\"\n",
    "    )"
   ]
  },
  {
   "cell_type": "code",
   "execution_count": 4,
   "id": "4fc8a7bb",
   "metadata": {},
   "outputs": [],
   "source": [
    "mycursor = db.cursor()"
   ]
  },
  {
   "cell_type": "code",
   "execution_count": 9,
   "id": "2fae79b7",
   "metadata": {},
   "outputs": [],
   "source": [
    "#mycursor.execute(\"CREATE DATABASE test\")"
   ]
  },
  {
   "cell_type": "code",
   "execution_count": 12,
   "id": "c59b2f88",
   "metadata": {},
   "outputs": [],
   "source": [
    "#mycursor.execute(\"CREATE TABLE room_type (room_type_id int, room_type varchar(50))\")"
   ]
  },
  {
   "cell_type": "code",
   "execution_count": 5,
   "id": "ff7dc375",
   "metadata": {},
   "outputs": [],
   "source": [
    "mycursor.execute(\"DESC room_type\")"
   ]
  },
  {
   "cell_type": "code",
   "execution_count": 10,
   "id": "9131ddd7",
   "metadata": {},
   "outputs": [
    {
     "name": "stdout",
     "output_type": "stream",
     "text": [
      "(1, 'Large')\n"
     ]
    }
   ],
   "source": [
    "for x in mycursor:\n",
    "    print(x)"
   ]
  },
  {
   "cell_type": "code",
   "execution_count": 1,
   "id": "9c325490",
   "metadata": {},
   "outputs": [],
   "source": [
    "import streamlit"
   ]
  },
  {
   "cell_type": "code",
   "execution_count": 7,
   "id": "19ba3cf5",
   "metadata": {},
   "outputs": [],
   "source": [
    "mycursor.execute(\"INSERT INTO room_type values(1, 'Large')\")"
   ]
  },
  {
   "cell_type": "code",
   "execution_count": 9,
   "id": "b0a5f38a",
   "metadata": {},
   "outputs": [],
   "source": [
    "mycursor.execute(\"SELECT * from room_type\")"
   ]
  },
  {
   "cell_type": "code",
   "execution_count": null,
   "id": "8971cea7",
   "metadata": {},
   "outputs": [],
   "source": []
  }
 ],
 "metadata": {
  "kernelspec": {
   "display_name": "Python 3 (ipykernel)",
   "language": "python",
   "name": "python3"
  },
  "language_info": {
   "codemirror_mode": {
    "name": "ipython",
    "version": 3
   },
   "file_extension": ".py",
   "mimetype": "text/x-python",
   "name": "python",
   "nbconvert_exporter": "python",
   "pygments_lexer": "ipython3",
   "version": "3.7.9"
  }
 },
 "nbformat": 4,
 "nbformat_minor": 5
}
